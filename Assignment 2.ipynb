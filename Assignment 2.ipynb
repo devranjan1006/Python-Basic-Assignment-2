{
 "cells": [
  {
   "cell_type": "markdown",
   "metadata": {},
   "source": [
    "# Assignment 2"
   ]
  },
  {
   "cell_type": "code",
   "execution_count": null,
   "metadata": {},
   "outputs": [],
   "source": [
    "#Question 1"
   ]
  },
  {
   "cell_type": "markdown",
   "metadata": {},
   "source": [
    "The two values of boolean data type are true and false. We write them as 'True' and 'False'. We cannot write them in other format as these the are the defined reserved keywords for the boolean values. According to python the value of True is 1 and f"
   ]
  },
  {
   "cell_type": "code",
   "execution_count": null,
   "metadata": {},
   "outputs": [],
   "source": [
    "#Question 2"
   ]
  },
  {
   "cell_type": "markdown",
   "metadata": {},
   "source": [
    "The different boolean operators are 'and','or' and 'not'.\n",
    "or: this operator gives the result as True when atleast one of the operands is true and False when all the values are false.\n",
    "and: this operator gives the result as True when all the operands are true and False when atleast one of the operands is false.\n",
    "not: This operator gives an inverse output for the given input.i.e a False when an input is True or vice versa."
   ]
  },
  {
   "cell_type": "code",
   "execution_count": null,
   "metadata": {},
   "outputs": [],
   "source": [
    "#Question 3"
   ]
  },
  {
   "cell_type": "markdown",
   "metadata": {},
   "source": [
    "For and:\n",
    "\n",
    "    True and True = True\n",
    "    \n",
    "    True and False = False\n",
    "    \n",
    "    False and True = False\n",
    "    \n",
    "    False and False = False\n",
    "    \n",
    "For or:\n",
    "\n",
    "    True and True = True\n",
    "    \n",
    "    True and False = True\n",
    "    \n",
    "    False and True = True\n",
    "    \n",
    "    False and False = False\n",
    "    \n",
    "For not:\n",
    "\n",
    "    not(True) = False\n",
    "    \n",
    "    not(False) = True"
   ]
  },
  {
   "cell_type": "code",
   "execution_count": null,
   "metadata": {},
   "outputs": [],
   "source": [
    "#Question 4"
   ]
  },
  {
   "cell_type": "markdown",
   "metadata": {},
   "source": [
    "The value of the following are:\n",
    "\n",
    "(5 > 4) and (3 == 5)  : False\n",
    "    \n",
    "not (5 > 4)  : False\n",
    "    \n",
    "(5 > 4) or (3 == 5)  : True\n",
    "    \n",
    "not ((5 > 4) or (3 == 5))  : True\n",
    "    \n",
    "(True and True) and (True == False)  : False\n",
    "    \n",
    "(not False) or (not True)  : True\n"
   ]
  },
  {
   "cell_type": "code",
   "execution_count": null,
   "metadata": {},
   "outputs": [],
   "source": [
    "#Question 5"
   ]
  },
  {
   "cell_type": "markdown",
   "metadata": {},
   "source": [
    "Different types of reference operators-\n",
    "\n",
    "\n",
    "-Arithmetic operators: They are used with numeric values to perform normal arethematic operations(+, -, * , /, % etc). \n",
    "for eg. a % b will return the remainder after dividing a and b.\n",
    "\n",
    "-Assignment operators: They are used to assign values to variable(=, +=, -=, //=, <<= etc). \n",
    "for eg. a -= 5 will subtract 5 from current value of a and store it in a.\n",
    "\n",
    "-Comparison operators: They are used to compare between two values and make a conditional statement(==, <, >, <=, != etc).\n",
    "for eg. a<=5 will return true if a is less than or equal to 5 else false.\n",
    "\n",
    "-Logical operators: They are used to combine conditional statements(and, or, not). \n",
    "for eg. (5>8)and(5>4) will return false.\n",
    "\n",
    "-Identity operators: They are used to compare between two objects where they are not only identical in terms of values but also memory location(is, is not). \n",
    "for eg. a is not b will return false if both the variables share the same memory location or else true.\n",
    "\n",
    "-Membership operators: They are used to find out wheter an object is present in a sequence or not(in, not in).\n",
    "for eg. 'red' in colors will return true if red is present in the list colors.\n"
   ]
  },
  {
   "cell_type": "code",
   "execution_count": null,
   "metadata": {},
   "outputs": [],
   "source": [
    "#Question 6"
   ]
  },
  {
   "cell_type": "markdown",
   "metadata": {},
   "source": [
    "An equal operator \"==\" is a comparision operator which is use for comparing between two values to check wether both the values are equal or not. It is used for condtional statements. \n",
    "\n",
    "for eg.   \n",
    "if a == 3:\n",
    "          \n",
    "          print('The value is 3')\n",
    "\n",
    "else:\n",
    "\n",
    "          pass\n",
    "          \n",
    "This statement will check the condition if a is equal to three or not. If yes it will print the statement or else it will pass.\n",
    "\n",
    "\n",
    "Whereas an assignment operator \"=\" is used for assigning certain value to a varaiable and store it. This blocks a tempoarary memory location for that value.\n",
    "\n",
    "for eg.   a = 3\n",
    "\n",
    "This will assign value 3 to the variable a and store it temporarily.\n",
    "\n",
    "The difference between both the statements is that they the former statement will change wheteher the variable a is holding the value 3 and the later statement assigns value 3 to the variable a.\n"
   ]
  },
  {
   "cell_type": "code",
   "execution_count": null,
   "metadata": {},
   "outputs": [],
   "source": [
    "#Question 7"
   ]
  },
  {
   "cell_type": "markdown",
   "metadata": {},
   "source": [
    "The first block will execute as its a declaritive statement and assign value 0 to the variable spam.\n",
    "\n",
    "In the second block it will check if the value of spam is equal to 10 or not. Since the condition is not satisfied the particular block of code wont execute and hence none of the print statement in the code will execute.\n",
    "\n",
    "The third code block is a direct print statement. And hence the string 'spam' will be printed as no condition is assotiated with that print statement."
   ]
  },
  {
   "cell_type": "code",
   "execution_count": null,
   "metadata": {},
   "outputs": [],
   "source": [
    "#Question 8"
   ]
  },
  {
   "cell_type": "markdown",
   "metadata": {},
   "source": [
    "\n",
    "if spam == 1:\n",
    "\n",
    "    print('Hello')\n",
    "    \n",
    "elif spam == 2:\n",
    "\n",
    "    print('Howdy')\n",
    "    \n",
    "else:\n",
    "\n",
    "    print('Greetings!')"
   ]
  },
  {
   "cell_type": "code",
   "execution_count": null,
   "metadata": {},
   "outputs": [],
   "source": [
    "#Question 9"
   ]
  },
  {
   "cell_type": "code",
   "execution_count": null,
   "metadata": {},
   "outputs": [],
   "source": [
    "If the programme goes into infinite loop we can break the loop by pressing ctrl + c. After this we need to save the programme."
   ]
  },
  {
   "cell_type": "code",
   "execution_count": null,
   "metadata": {},
   "outputs": [],
   "source": [
    "#Question 10"
   ]
  },
  {
   "cell_type": "markdown",
   "metadata": {},
   "source": [
    "The break and continue statement are useful for altering the control flow of the loop.\n",
    "\n",
    "1. break statement:\n",
    "    \n",
    "for(i in range(10))\n",
    "\n",
    "if (condition):\n",
    "    \n",
    "    break\n",
    "    \n",
    "else:\n",
    "    \n",
    "    print(i)\n",
    "    \n",
    "In this block of code if the condition holds true the program will come directly out of the for loop without executing anything and execute the statement very next after the for loop.\n",
    "\n",
    "\n",
    "2. continue statement:\n",
    "    \n",
    "for(i in range(10))\n",
    "\n",
    "if (condition):\n",
    "    \n",
    "    continue\n",
    "    \n",
    "else:\n",
    "    \n",
    "    print(i)\n",
    "    \n",
    "In this block of code if the condition holds true the program will directly jump to the next iteration of the for loop without executing anything after the continue statement in that iteration."
   ]
  },
  {
   "cell_type": "code",
   "execution_count": null,
   "metadata": {},
   "outputs": [],
   "source": [
    "#Question 11"
   ]
  },
  {
   "cell_type": "markdown",
   "metadata": {},
   "source": [
    "1. range(10):\n",
    "    \n",
    "This will produce a series of 1st 10 natural numbers which will by default include zero in the first position.\n",
    "\n",
    "2. range(0,10):\n",
    "\n",
    "This will produce a series of numbers from 0 to 10 where 10 is exclusive in steps of 1 which is a default step value.\n",
    "\n",
    "3. range(0,10,1):\n",
    "    \n",
    "This will produce a series of numbers from 0 to 10 where 10 is exclusive in steps of 1 which is step value specified by us as the third parameter in the function and can be any other value depending upon the situation."
   ]
  },
  {
   "cell_type": "code",
   "execution_count": null,
   "metadata": {},
   "outputs": [],
   "source": [
    "#Question 12"
   ]
  },
  {
   "cell_type": "markdown",
   "metadata": {},
   "source": [
    "1. using for statement:\n",
    "\n",
    "for i in range(1,11):\n",
    "    \n",
    "    print(i)\n",
    "    \n",
    "    \n",
    "    \n",
    "    \n",
    "2. using while statement:\n",
    "    \n",
    "i = 1\n",
    "\n",
    "while (i<11):\n",
    "    \n",
    "    print(i)\n",
    "    \n",
    "    i = i + 1\n",
    "    "
   ]
  },
  {
   "cell_type": "code",
   "execution_count": null,
   "metadata": {},
   "outputs": [],
   "source": [
    "#Question 13"
   ]
  },
  {
   "cell_type": "markdown",
   "metadata": {},
   "source": [
    " After importing the spam module we would call the bacon() function as:\n",
    "        \n",
    "        spam.bacon()"
   ]
  }
 ],
 "metadata": {
  "kernelspec": {
   "display_name": "Python 3",
   "language": "python",
   "name": "python3"
  },
  "language_info": {
   "codemirror_mode": {
    "name": "ipython",
    "version": 3
   },
   "file_extension": ".py",
   "mimetype": "text/x-python",
   "name": "python",
   "nbconvert_exporter": "python",
   "pygments_lexer": "ipython3",
   "version": "3.8.5"
  }
 },
 "nbformat": 4,
 "nbformat_minor": 4
}
